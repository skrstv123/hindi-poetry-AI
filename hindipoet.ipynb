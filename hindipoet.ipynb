{
  "nbformat": 4,
  "nbformat_minor": 0,
  "metadata": {
    "colab": {
      "name": "hindipoet.ipynb",
      "provenance": [],
      "collapsed_sections": []
    },
    "kernelspec": {
      "name": "python3",
      "display_name": "Python 3"
    },
    "accelerator": "GPU"
  },
  "cells": [
    {
      "cell_type": "code",
      "metadata": {
        "id": "dgiFhDh3Y_N2",
        "colab_type": "code",
        "colab": {}
      },
      "source": [
        "import os\n",
        "import re\n",
        "from collections import defaultdict as df\n",
        "import tensorflow as tf\n",
        "from tensorflow.keras.preprocessing.sequence import pad_sequences\n",
        "from tensorflow.keras.layers import Embedding, LSTM, Dense, Dropout, Bidirectional\n",
        "from tensorflow.keras.preprocessing.text import Tokenizer\n",
        "from tensorflow.keras.models import Sequential\n",
        "from tensorflow.keras.optimizers import Adam\n",
        "from tensorflow.keras import regularizers\n",
        "import tensorflow.keras.utils as ku \n",
        "import numpy as np "
      ],
      "execution_count": null,
      "outputs": []
    },
    {
      "cell_type": "code",
      "metadata": {
        "id": "U2Titv4kezWl",
        "colab_type": "code",
        "colab": {}
      },
      "source": [
        "poems = [];ic = 0\n",
        "for fn in os.listdir(\"/content/dbh\"):\n",
        "    with open(\"/content/dbh/\" + fn, 'r') as kf:\n",
        "        ekkav = kf.read().strip().split('\\n')[2:-1]\n",
        "        for i in range(len(ekkav)):\n",
        "            if ekkav[i][0]==' ': ekkav[i] = '<sep>'\n",
        "        ekkav = '\\n'.join(ekkav).split('<sep>')\n",
        "        for i in range(len(ekkav)):\n",
        "            if len(ekkav[i])>0:\n",
        "                x = ekkav[i]\n",
        "                for i in \",.|\\'\\\"\":\n",
        "                    x = x.replace(i, '')\n",
        "                a = x.strip().split('\\n')\n",
        "                for j in range(0,len(a),4):\n",
        "                    x = a[j:j+4]\n",
        "                    if len(x) is 4:\n",
        "                        poems.append((' <sep> '.join(x) + ' <sep>').split())\n"
      ],
      "execution_count": null,
      "outputs": []
    },
    {
      "cell_type": "code",
      "metadata": {
        "id": "LaEInRwiOS_p",
        "colab_type": "code",
        "colab": {
          "base_uri": "https://localhost:8080/",
          "height": 34
        },
        "outputId": "2ecf248e-f7b6-433f-b7f9-08a040ccffb5"
      },
      "source": [
        "len(poems)"
      ],
      "execution_count": null,
      "outputs": [
        {
          "output_type": "execute_result",
          "data": {
            "text/plain": [
              "9408"
            ]
          },
          "metadata": {
            "tags": []
          },
          "execution_count": 22
        }
      ]
    },
    {
      "cell_type": "code",
      "metadata": {
        "id": "3menX63XTNz_",
        "colab_type": "code",
        "colab": {}
      },
      "source": [
        "poems = poems[:5000]"
      ],
      "execution_count": null,
      "outputs": []
    },
    {
      "cell_type": "code",
      "metadata": {
        "id": "3cWYXFGqfQig",
        "colab_type": "code",
        "colab": {}
      },
      "source": [
        "vocab = df(int)\n",
        "for p in poems:\n",
        "    for w in p: vocab[w]+=1"
      ],
      "execution_count": null,
      "outputs": []
    },
    {
      "cell_type": "code",
      "metadata": {
        "id": "ElM0xQy_nOVs",
        "colab_type": "code",
        "colab": {}
      },
      "source": [
        "vocab_size = len(vocab)"
      ],
      "execution_count": null,
      "outputs": []
    },
    {
      "cell_type": "code",
      "metadata": {
        "id": "Krw-_t8MTeJ7",
        "colab_type": "code",
        "colab": {
          "base_uri": "https://localhost:8080/",
          "height": 34
        },
        "outputId": "27ab6fc8-ee84-4bf8-9e3a-37fef1fddbf9"
      },
      "source": [
        "vocab_size"
      ],
      "execution_count": null,
      "outputs": [
        {
          "output_type": "execute_result",
          "data": {
            "text/plain": [
              "2200"
            ]
          },
          "metadata": {
            "tags": []
          },
          "execution_count": 41
        }
      ]
    },
    {
      "cell_type": "code",
      "metadata": {
        "id": "4fBj0Z-83Ywv",
        "colab_type": "code",
        "colab": {}
      },
      "source": [
        "tokenizer = {w:i+1 for i,w in enumerate(vocab.keys())}"
      ],
      "execution_count": null,
      "outputs": []
    },
    {
      "cell_type": "code",
      "metadata": {
        "id": "o6KcLvCI3lBn",
        "colab_type": "code",
        "colab": {}
      },
      "source": [
        "idx_to_word = {v:k for k,v in tokenizer.items()}"
      ],
      "execution_count": null,
      "outputs": []
    },
    {
      "cell_type": "code",
      "metadata": {
        "id": "qdByljIT4w8k",
        "colab_type": "code",
        "colab": {}
      },
      "source": [
        "input_sequences = []\n",
        "for line in poems:\n",
        "\ttoken_list = [tokenizer[w] for w in line]\n",
        "\tfor i in range(1, len(token_list)):\n",
        "\t\tn_gram_sequence = token_list[:i+1]\n",
        "\t\tinput_sequences.append(n_gram_sequence)\n",
        "  \n",
        "max_sequence_len = max([len(x) for x in input_sequences])\n",
        "input_sequences = np.array(pad_sequences(input_sequences, maxlen=max_sequence_len, padding='pre'))\n",
        "\n",
        "predictors, label = input_sequences[:,:-1],input_sequences[:,-1]\n",
        "\n",
        "label = ku.to_categorical(label, num_classes=vocab_size + 1)"
      ],
      "execution_count": null,
      "outputs": []
    },
    {
      "cell_type": "code",
      "metadata": {
        "id": "MzMh4Lkj65Jc",
        "colab_type": "code",
        "colab": {
          "base_uri": "https://localhost:8080/",
          "height": 50
        },
        "outputId": "e8e7c6ef-0d02-40f9-a047-3b95159a7b09"
      },
      "source": [
        "print([idx_to_word[w] for w in predictors[4] if w in idx_to_word],idx_to_word[np.argmax(label[4])])\n",
        "print(poems[0][:6])"
      ],
      "execution_count": null,
      "outputs": [
        {
          "output_type": "stream",
          "text": [
            "['धूप', 'बहुत', 'है', 'मौसम', 'जल'] थल\n",
            "['धूप', 'बहुत', 'है', 'मौसम', 'जल', 'थल']\n"
          ],
          "name": "stdout"
        }
      ]
    },
    {
      "cell_type": "code",
      "metadata": {
        "id": "lmS7hp-JDfe2",
        "colab_type": "code",
        "colab": {}
      },
      "source": [
        "import requests"
      ],
      "execution_count": null,
      "outputs": []
    },
    {
      "cell_type": "code",
      "metadata": {
        "id": "m028hq2KmInw",
        "colab_type": "code",
        "colab": {}
      },
      "source": [
        "with open('cc.hi.300.vec.gz', 'wb') as hv:\n",
        "    hv.write(requests.get(\"http://dl.fbaipublicfiles.com/fasttext/vectors-crawl/cc.hi.300.vec.gz\").content)\n",
        "# https://dl.fbaipublicfiles.com/fasttext/vectors-crawl/cc.hi.300.vec.gz\n",
        "# https://fasttext.cc/docs/en/crawl-vectors.html"
      ],
      "execution_count": null,
      "outputs": []
    },
    {
      "cell_type": "code",
      "metadata": {
        "id": "0aa6vk7Mma1P",
        "colab_type": "code",
        "colab": {}
      },
      "source": [
        "# !cp \"/content/cc.hi.300.vec.gz\" \"/content/drive/My Drive/hindpoet/\""
      ],
      "execution_count": null,
      "outputs": []
    },
    {
      "cell_type": "code",
      "metadata": {
        "id": "cWPRRkoMUyGP",
        "colab_type": "code",
        "colab": {}
      },
      "source": [
        "# !cp \"/content/drive/My Drive/hindpoet/cc.hi.300.vec.gz\" \"/content/\""
      ],
      "execution_count": null,
      "outputs": []
    },
    {
      "cell_type": "code",
      "metadata": {
        "id": "ifuWjATnm-E3",
        "colab_type": "code",
        "colab": {}
      },
      "source": [
        "import gzip"
      ],
      "execution_count": null,
      "outputs": []
    },
    {
      "cell_type": "code",
      "metadata": {
        "id": "4H1q_rDlnmIm",
        "colab_type": "code",
        "colab": {}
      },
      "source": [
        "import shutil\n",
        "with gzip.open(\"/content/cc.hi.300.vec.gz\", 'rb') as f_in:\n",
        "    with open(\"/content/cc.hi.300.vec\", 'wb') as f_out:\n",
        "        shutil.copyfileobj(f_in, f_out)"
      ],
      "execution_count": null,
      "outputs": []
    },
    {
      "cell_type": "code",
      "metadata": {
        "id": "bEK9hHgkWiZY",
        "colab_type": "code",
        "colab": {}
      },
      "source": [
        "# !cp \"/content/cc.hi.300.vec\" \"/content/drive/My Drive/hindpoet/\""
      ],
      "execution_count": null,
      "outputs": []
    },
    {
      "cell_type": "code",
      "metadata": {
        "id": "qhJJdxwEtb9q",
        "colab_type": "code",
        "colab": {}
      },
      "source": [
        "def read_in_chunks(file_object, chunk_size=10*1024):\n",
        "    \"\"\"Lazy function (generator) to read a file piece by piece.\n",
        "    Default chunk size: 1k.\"\"\"\n",
        "    while True:\n",
        "        data = file_object.read(chunk_size)\n",
        "        if not data:\n",
        "            break\n",
        "        yield data\n",
        "\n",
        "embedding_matrix = np.zeros((vocab_size+1,300))\n",
        "\n",
        "with open('/content/cc.hi.300.vec','r') as ff:\n",
        "    i = 0 \n",
        "    for piece in read_in_chunks(ff):\n",
        "        for j in piece.split('\\n'):\n",
        "            try:\n",
        "                float(j.split()[0])\n",
        "                # print(j.split()[0])\n",
        "            except: \n",
        "                data = j.split()\n",
        "                if len(data)==301:\n",
        "                    if data[0] in tokenizer:\n",
        "                        embedding_matrix[tokenizer[data[0]]] = np.array(data[1:] ,dtype=np.float)"
      ],
      "execution_count": null,
      "outputs": []
    },
    {
      "cell_type": "code",
      "metadata": {
        "id": "X34S3QSZvqQV",
        "colab_type": "code",
        "colab": {
          "base_uri": "https://localhost:8080/",
          "height": 34
        },
        "outputId": "3960bffc-b5bc-440b-95c5-82058cca9516"
      },
      "source": [
        "len(embedding_matrix[5])"
      ],
      "execution_count": null,
      "outputs": [
        {
          "output_type": "execute_result",
          "data": {
            "text/plain": [
              "300"
            ]
          },
          "metadata": {
            "tags": []
          },
          "execution_count": 58
        }
      ]
    },
    {
      "cell_type": "code",
      "metadata": {
        "id": "hX8O3GazyXtg",
        "colab_type": "code",
        "colab": {}
      },
      "source": [
        "import pickle\n",
        "with open('embedding_matrix_32.pkl','wb') as f:\n",
        "    pickle.dump(embedding_matrix, f)"
      ],
      "execution_count": null,
      "outputs": []
    },
    {
      "cell_type": "code",
      "metadata": {
        "id": "ZJ1rXEjj3YX6",
        "colab_type": "code",
        "colab": {}
      },
      "source": [
        "!cp \"/content/embedding_matrix_32.pkl\" \"/content/drive/My Drive/hindpoet/\""
      ],
      "execution_count": null,
      "outputs": []
    },
    {
      "cell_type": "code",
      "metadata": {
        "id": "NOQJRax73i-g",
        "colab_type": "code",
        "colab": {}
      },
      "source": [
        "with open(\"/content/drive/My Drive/hindpoet/w2i_32.pkl\", 'wb') as p:\n",
        "    pickle.dump(tokenizer, p)"
      ],
      "execution_count": null,
      "outputs": []
    },
    {
      "cell_type": "code",
      "metadata": {
        "id": "yyO5juzWYxXC",
        "colab_type": "code",
        "colab": {}
      },
      "source": [
        "with open(\"/content/drive/My Drive/hindpoet/i2w_32.pkl\", 'wb') as p:\n",
        "    pickle.dump(idx_to_word, p)"
      ],
      "execution_count": null,
      "outputs": []
    },
    {
      "cell_type": "code",
      "metadata": {
        "id": "xaOkDtgQ3onC",
        "colab_type": "code",
        "colab": {
          "base_uri": "https://localhost:8080/",
          "height": 336
        },
        "outputId": "eacbfa98-b1ea-4b67-dea7-dc41bf054d4a"
      },
      "source": [
        "model = Sequential()\n",
        "model.add(Embedding(vocab_size + 1, 300, input_length=max_sequence_len-1, weights=[embedding_matrix], trainable=False))\n",
        "model.add(Dropout(0.2))\n",
        "model.add(LSTM(256))\n",
        "model.add(Dense(vocab_size/2, activation='relu', kernel_regularizer=regularizers.l2(0.01)))\n",
        "model.add(Dense(vocab_size+1, activation='softmax'))\n",
        "model.compile(loss='categorical_crossentropy', optimizer='adam', metrics=['accuracy'])\n",
        "print(model.summary())"
      ],
      "execution_count": null,
      "outputs": [
        {
          "output_type": "stream",
          "text": [
            "Model: \"sequential\"\n",
            "_________________________________________________________________\n",
            "Layer (type)                 Output Shape              Param #   \n",
            "=================================================================\n",
            "embedding (Embedding)        (None, 43, 300)           660300    \n",
            "_________________________________________________________________\n",
            "dropout (Dropout)            (None, 43, 300)           0         \n",
            "_________________________________________________________________\n",
            "lstm (LSTM)                  (None, 256)               570368    \n",
            "_________________________________________________________________\n",
            "dense (Dense)                (None, 1100)              282700    \n",
            "_________________________________________________________________\n",
            "dense_1 (Dense)              (None, 2201)              2423301   \n",
            "=================================================================\n",
            "Total params: 3,936,669\n",
            "Trainable params: 3,276,369\n",
            "Non-trainable params: 660,300\n",
            "_________________________________________________________________\n",
            "None\n"
          ],
          "name": "stdout"
        }
      ]
    },
    {
      "cell_type": "code",
      "metadata": {
        "id": "Y-JE_eHN31md",
        "colab_type": "code",
        "colab": {
          "base_uri": "https://localhost:8080/",
          "height": 713
        },
        "outputId": "04fdd32c-4f91-4a13-d887-d178e5adcaa5"
      },
      "source": [
        "history = model.fit(predictors, label, epochs=5, verbose=1)\n",
        "model.save('/content/drive/My Drive/hindpoet/hindipoet32_5.h5')\n",
        "import matplotlib.pyplot as plt\n",
        "acc = history.history['accuracy']\n",
        "loss = history.history['loss']\n",
        "\n",
        "epochs = range(len(acc))\n",
        "\n",
        "plt.plot(epochs, acc, 'b', label='Training accuracy')\n",
        "plt.title('Training accuracy')\n",
        "\n",
        "plt.figure()\n",
        "\n",
        "plt.plot(epochs, loss, 'b', label='Training Loss')\n",
        "plt.title('Training loss')\n",
        "plt.legend()\n",
        "\n",
        "plt.show()"
      ],
      "execution_count": null,
      "outputs": [
        {
          "output_type": "stream",
          "text": [
            "Epoch 1/5\n",
            "3857/3857 [==============================] - 27s 7ms/step - loss: 5.5782 - accuracy: 0.1560\n",
            "Epoch 2/5\n",
            "3857/3857 [==============================] - 27s 7ms/step - loss: 4.0701 - accuracy: 0.2718\n",
            "Epoch 3/5\n",
            "3857/3857 [==============================] - 26s 7ms/step - loss: 2.1745 - accuracy: 0.6230\n",
            "Epoch 4/5\n",
            "3857/3857 [==============================] - 26s 7ms/step - loss: 1.1803 - accuracy: 0.8437\n",
            "Epoch 5/5\n",
            "3857/3857 [==============================] - 26s 7ms/step - loss: 0.7797 - accuracy: 0.9174\n"
          ],
          "name": "stdout"
        },
        {
          "output_type": "display_data",
          "data": {
            "image/png": "[encoded data removed]",
            "text/plain": [
              "<Figure size 432x288 with 1 Axes>"
            ]
          },
          "metadata": {
            "tags": [],
            "needs_background": "light"
          }
        },
        {
          "output_type": "display_data",
          "data": {
            "image/png": "[encoded data removed]",
            "text/plain": [
              "<Figure size 432x288 with 1 Axes>"
            ]
          },
          "metadata": {
            "tags": [],
            "needs_background": "light"
          }
        }
      ]
    },
    {
      "cell_type": "code",
      "metadata": {
        "id": "2C694HdxZ3rH",
        "colab_type": "code",
        "colab": {
          "base_uri": "https://localhost:8080/",
          "height": 713
        },
        "outputId": "5bb57ed9-d8bb-45e1-de42-61026d82aed5"
      },
      "source": [
        "history = model.fit(predictors, label, epochs=5, verbose=1)\n",
        "model.save('/content/drive/My Drive/hindpoet/hindipoet32_10.h5')\n",
        "import matplotlib.pyplot as plt\n",
        "acc = history.history['accuracy']\n",
        "loss = history.history['loss']\n",
        "\n",
        "epochs = range(len(acc))\n",
        "\n",
        "plt.plot(epochs, acc, 'b', label='Training accuracy')\n",
        "plt.title('Training accuracy')\n",
        "\n",
        "plt.figure()\n",
        "\n",
        "plt.plot(epochs, loss, 'b', label='Training Loss')\n",
        "plt.title('Training loss')\n",
        "plt.legend()\n",
        "\n",
        "plt.show()"
      ],
      "execution_count": null,
      "outputs": [
        {
          "output_type": "stream",
          "text": [
            "Epoch 1/5\n",
            "3857/3857 [==============================] - 27s 7ms/step - loss: 0.6147 - accuracy: 0.9389\n",
            "Epoch 2/5\n",
            "3857/3857 [==============================] - 27s 7ms/step - loss: 0.5085 - accuracy: 0.9487\n",
            "Epoch 3/5\n",
            "3857/3857 [==============================] - 27s 7ms/step - loss: 0.5340 - accuracy: 0.9383\n",
            "Epoch 4/5\n",
            "3857/3857 [==============================] - 26s 7ms/step - loss: 0.4809 - accuracy: 0.9448\n",
            "Epoch 5/5\n",
            "3857/3857 [==============================] - 26s 7ms/step - loss: 0.4073 - accuracy: 0.9602\n"
          ],
          "name": "stdout"
        },
        {
          "output_type": "display_data",
          "data": {
            "image/png": "[encoded data removed]",
            "text/plain": [
              "<Figure size 432x288 with 1 Axes>"
            ]
          },
          "metadata": {
            "tags": [],
            "needs_background": "light"
          }
        },
        {
          "output_type": "display_data",
          "data": {
            "image/png": "[encoded data removed]",
            "text/plain": [
              "<Figure size 432x288 with 1 Axes>"
            ]
          },
          "metadata": {
            "tags": [],
            "needs_background": "light"
          }
        }
      ]
    },
    {
      "cell_type": "code",
      "metadata": {
        "id": "nHwGuDSaagIT",
        "colab_type": "code",
        "colab": {
          "base_uri": "https://localhost:8080/",
          "height": 612
        },
        "outputId": "3f5e2339-d4bb-48fe-d07c-5cd114fb06b7"
      },
      "source": [
        "history = model.fit(predictors, label, epochs=2, verbose=1)\n",
        "model.save('/content/drive/My Drive/hindpoet/hindipoet32_12.h5')\n",
        "import matplotlib.pyplot as plt\n",
        "acc = history.history['accuracy']\n",
        "loss = history.history['loss']\n",
        "\n",
        "epochs = range(len(acc))\n",
        "\n",
        "plt.plot(epochs, acc, 'b', label='Training accuracy')\n",
        "plt.title('Training accuracy')\n",
        "\n",
        "plt.figure()\n",
        "\n",
        "plt.plot(epochs, loss, 'b', label='Training Loss')\n",
        "plt.title('Training loss')\n",
        "plt.legend()\n",
        "\n",
        "plt.show()"
      ],
      "execution_count": null,
      "outputs": [
        {
          "output_type": "stream",
          "text": [
            "Epoch 1/2\n",
            "3857/3857 [==============================] - 27s 7ms/step - loss: 0.3953 - accuracy: 0.9569\n",
            "Epoch 2/2\n",
            "3857/3857 [==============================] - 26s 7ms/step - loss: 0.4294 - accuracy: 0.9502\n"
          ],
          "name": "stdout"
        },
        {
          "output_type": "display_data",
          "data": {
            "image/png": "[encoded data removed]",
            "text/plain": [
              "<Figure size 432x288 with 1 Axes>"
            ]
          },
          "metadata": {
            "tags": [],
            "needs_background": "light"
          }
        },
        {
          "output_type": "display_data",
          "data": {
            "image/png": "[encoded data removed]",
            "text/plain": [
              "<Figure size 432x288 with 1 Axes>"
            ]
          },
          "metadata": {
            "tags": [],
            "needs_background": "light"
          }
        }
      ]
    },
    {
      "cell_type": "code",
      "metadata": {
        "id": "fWINIP5Ha3pb",
        "colab_type": "code",
        "colab": {}
      },
      "source": [
        "model = tf.keras.models.load_model('/content/drive/My Drive/hindpoet/hindipoet32_10.h5')"
      ],
      "execution_count": null,
      "outputs": []
    },
    {
      "cell_type": "code",
      "metadata": {
        "id": "QpSxP6Xv4EDH",
        "colab_type": "code",
        "colab": {}
      },
      "source": [
        "def gen_poem(model, length, w2i, i2w, start = ' ', lines = 4):\n",
        "    ipseq = [w2i[s] for s in start if s in w2i]\n",
        "    # print(ipseq)\n",
        "    lsc = 0 \n",
        "    while lsc<lines:\n",
        "        ip = np.array(pad_sequences([ipseq], maxlen=length, padding='pre'))\n",
        "        # print(ip)\n",
        "        w = model.predict(ip)[0]\n",
        "        w = np.argmax(w)\n",
        "        if i2w[w].strip() == '<sep>':\n",
        "            lsc+=1\n",
        "        start+=' '+ i2w[w] \n",
        "        ipseq.append(w)\n",
        "    for i in start.split('<sep>'):\n",
        "        print(i.strip(), end=  '\\n\\n')"
      ],
      "execution_count": null,
      "outputs": []
    },
    {
      "cell_type": "code",
      "metadata": {
        "id": "eXfINbeQdcId",
        "colab_type": "code",
        "colab": {}
      },
      "source": [
        "def gen_poem_random(model, length, w2i, i2w, start = ' ', lines = 4):\n",
        "    ipseq = [w2i[s] for s in start if s in w2i]\n",
        "    # print(ipseq)\n",
        "    lsc = 0 \n",
        "    while lsc<lines:\n",
        "        ip = np.array(pad_sequences([ipseq], maxlen=length, padding='pre'))\n",
        "        # print(ip)\n",
        "        w = model.predict(ip)[0]\n",
        "        w = np.random.choice(np.arange(vocab_size+1), p = w)\n",
        "        if w is 0 or w is w2i['']: w+=1\n",
        "        if i2w[w].strip() == '<sep>':\n",
        "            lsc+=1\n",
        "        start+=' '+ i2w[w] \n",
        "        ipseq.append(w)\n",
        "    for i in start.split('<sep>'):\n",
        "        print(i.strip(), end=  '\\n\\n')"
      ],
      "execution_count": null,
      "outputs": []
    },
    {
      "cell_type": "code",
      "metadata": {
        "id": "IJZeCVkH5ZTz",
        "colab_type": "code",
        "colab": {
          "base_uri": "https://localhost:8080/",
          "height": 185
        },
        "outputId": "2f361c21-2136-4e6a-af9d-2fdb825f592c"
      },
      "source": [
        "gen_poem(model, max_sequence_len-1, tokenizer, idx_to_word, \"बादल\", 4)"
      ],
      "execution_count": null,
      "outputs": [
        {
          "output_type": "stream",
          "text": [
            "बादल से चाँद का चेहरा छूता है\n",
            "\n",
            "बेटा ! इतनी सस्ती जन्नत नहीं होती\n",
            "\n",
            "बाजारों में ढूंढ रहा हूँ वो चीज़े\n",
            "\n",
            "जिन चीजों की कोई कीमत नहीं होती\n",
            "\n",
            "\n",
            "\n"
          ],
          "name": "stdout"
        }
      ]
    },
    {
      "cell_type": "code",
      "metadata": {
        "id": "YWzAuKgjl14a",
        "colab_type": "code",
        "colab": {
          "base_uri": "https://localhost:8080/",
          "height": 151
        },
        "outputId": "79b16805-7614-41d5-acc0-5ee500935001"
      },
      "source": [
        "gen_poem_random(model, max_sequence_len-1, tokenizer, idx_to_word, \"दुनिया को छोड़ना चाहा\", 3)"
      ],
      "execution_count": null,
      "outputs": [
        {
          "output_type": "stream",
          "text": [
            "दुनिया को छोड़ना चाहा हैं ओढ़ कर ख़ुद को\n",
            "\n",
            "अब ज़रूरत नहीं रज़ाई की\n",
            "\n",
            "अक्सर चूमती हैं मेरे क़दम\n",
            "\n",
            "\n",
            "\n"
          ],
          "name": "stdout"
        }
      ]
    },
    {
      "cell_type": "code",
      "metadata": {
        "id": "HaN4VKVomMl8",
        "colab_type": "code",
        "colab": {
          "base_uri": "https://localhost:8080/",
          "height": 185
        },
        "outputId": "bdf1abd9-f85c-4e21-c686-abe5ba55efe2"
      },
      "source": [
        "gen_poem_random(model, max_sequence_len-1, tokenizer, idx_to_word, \"दुनिया को छोड़ना चाहा\", 4)"
      ],
      "execution_count": null,
      "outputs": [
        {
          "output_type": "stream",
          "text": [
            "दुनिया को छोड़ना चाहा ऐ सूरज तुझे पूजा नहीं समझा तो है\n",
            "\n",
            "मेरे हिस्से में भी थोड़ी धूप आनी चाहिए\n",
            "\n",
            "मेरी क़ीमत कौन दे सकता है इस बाज़ार में\n",
            "\n",
            "तुम ज़ुलेख़ा हो तुम्हें क़ीमत लगानी चाहिए\n",
            "\n",
            "\n",
            "\n"
          ],
          "name": "stdout"
        }
      ]
    },
    {
      "cell_type": "code",
      "metadata": {
        "id": "W9eOuQBBmmZt",
        "colab_type": "code",
        "colab": {
          "base_uri": "https://localhost:8080/",
          "height": 185
        },
        "outputId": "82e60d9c-06d6-45d2-8b6b-28fbd48e0abc"
      },
      "source": [
        "gen_poem_random(model, max_sequence_len-1, tokenizer, idx_to_word, \"तुम्हें समुंदर में छोड़ना\", 4)"
      ],
      "execution_count": null,
      "outputs": [
        {
          "output_type": "stream",
          "text": [
            "तुम्हें समुंदर में छोड़ना बादल ने\n",
            "\n",
            "याद जुदाई में एक मंज़र करते\n",
            "\n",
            "\n",
            "\n",
            "किनारे के शुरूआत से पहले करते\n",
            "\n",
            "\n",
            "\n"
          ],
          "name": "stdout"
        }
      ]
    },
    {
      "cell_type": "code",
      "metadata": {
        "id": "PaPYxrVznYTm",
        "colab_type": "code",
        "colab": {
          "base_uri": "https://localhost:8080/",
          "height": 185
        },
        "outputId": "02922b32-5905-4969-b36d-2a233ab14708"
      },
      "source": [
        "gen_poem_random(model, max_sequence_len-1, tokenizer, idx_to_word, \"मेरा ज़माना\", 4)"
      ],
      "execution_count": null,
      "outputs": [
        {
          "output_type": "stream",
          "text": [
            "मेरा ज़माना एक कहानी तस्वीर है\n",
            "\n",
            "से क्या पास है कि उदास क्या है\n",
            "\n",
            "कितने आज साहिबे ही नहीं है इस सदियों उड़ जाते\n",
            "\n",
            "मैं ऐ ख़ुदा आँखों बता नज़र और उठाया है\n",
            "\n",
            "\n",
            "\n"
          ],
          "name": "stdout"
        }
      ]
    },
    {
      "cell_type": "code",
      "metadata": {
        "id": "bMGpTQpZEK3M",
        "colab_type": "code",
        "colab": {
          "base_uri": "https://localhost:8080/",
          "height": 185
        },
        "outputId": "eb35d159-8d67-4a38-8546-433d97a6ea17"
      },
      "source": [
        "gen_poem(model, max_sequence_len-1, tokenizer, idx_to_word, \"सस्ती जन्नत\", 4)"
      ],
      "execution_count": null,
      "outputs": [
        {
          "output_type": "stream",
          "text": [
            "सस्ती जन्नत कर गये सब किनारा कश्ती से\n",
            "\n",
            "सिर्फ़ इक बादवन लिपटा है\n",
            "\n",
            "दे तवानाईयां मेरे माबूद !\n",
            "\n",
            "सभी माने ख़ुशामद तू\n",
            "\n",
            "\n",
            "\n"
          ],
          "name": "stdout"
        }
      ]
    },
    {
      "cell_type": "code",
      "metadata": {
        "id": "ic6EvArRcuO3",
        "colab_type": "code",
        "colab": {
          "base_uri": "https://localhost:8080/",
          "height": 185
        },
        "outputId": "0958991b-0a62-4342-a056-398595a6ef12"
      },
      "source": [
        "gen_poem_random(model, max_sequence_len-1, tokenizer, idx_to_word, \"हाथी-घोड़े\", 4)"
      ],
      "execution_count": null,
      "outputs": [
        {
          "output_type": "stream",
          "text": [
            "हाथी-घोड़े ठहरे बंजारे हम बंजारों को\n",
            "\n",
            "दरवाज़ों और दीवारों से क्या लेना\n",
            "\n",
            "ख़्वाबों वाली कोई चीज़ नहीं मिलती\n",
            "\n",
            "सोच रहा हूँ बाज़ारों से क्या लेना\n",
            "\n",
            "\n",
            "\n"
          ],
          "name": "stdout"
        }
      ]
    },
    {
      "cell_type": "code",
      "metadata": {
        "id": "cGQHFchifoF9",
        "colab_type": "code",
        "colab": {
          "base_uri": "https://localhost:8080/",
          "height": 118
        },
        "outputId": "effdb652-7f95-4af9-e4b6-b3c144eba6c8"
      },
      "source": [
        "gen_poem_random(model, max_sequence_len-1, tokenizer, idx_to_word, \"हाथी-घोड़े\", 2)"
      ],
      "execution_count": null,
      "outputs": [
        {
          "output_type": "stream",
          "text": [
            "हाथी-घोड़े कितने टाल देना था मुझे भी\n",
            "\n",
            "ख़ता क्यूँ हो गए सरकार मेरे\n",
            "\n",
            "\n",
            "\n"
          ],
          "name": "stdout"
        }
      ]
    },
    {
      "cell_type": "code",
      "metadata": {
        "id": "30GHXTSQg46V",
        "colab_type": "code",
        "colab": {
          "base_uri": "https://localhost:8080/",
          "height": 118
        },
        "outputId": "195fd0be-f26e-45a7-cede-278d729070e6"
      },
      "source": [
        "gen_poem_random(model, max_sequence_len-1, tokenizer, idx_to_word, \"आँखों\", 2)"
      ],
      "execution_count": null,
      "outputs": [
        {
          "output_type": "stream",
          "text": [
            "आँखों रहा है हुजरा जंग सब\n",
            "\n",
            "पूछेंगे अब कम होगा हो जाए\n",
            "\n",
            "\n",
            "\n"
          ],
          "name": "stdout"
        }
      ]
    },
    {
      "cell_type": "code",
      "metadata": {
        "id": "GKLg8lOxhLC3",
        "colab_type": "code",
        "colab": {
          "base_uri": "https://localhost:8080/",
          "height": 118
        },
        "outputId": "a2135cf6-a216-45a4-f3e8-4fd506314239"
      },
      "source": [
        "gen_poem_random(model, max_sequence_len-1, tokenizer, idx_to_word, \"अब कम होगा\", 2)"
      ],
      "execution_count": null,
      "outputs": [
        {
          "output_type": "stream",
          "text": [
            "अब कम होगा थीं गई सब ग़ैर-ज़रूरी हँसते रहते हैं हम फूलों की नादानी है\n",
            "\n",
            "हाय ये दुनिया! हाय ये लोग\n",
            "\n",
            "\n",
            "\n"
          ],
          "name": "stdout"
        }
      ]
    },
    {
      "cell_type": "code",
      "metadata": {
        "id": "dOgJ0q9cjJUw",
        "colab_type": "code",
        "colab": {
          "base_uri": "https://localhost:8080/",
          "height": 151
        },
        "outputId": "92564068-3389-4d75-be25-4aad111cef1b"
      },
      "source": [
        "gen_poem_random(model, max_sequence_len-1, tokenizer, idx_to_word, \"ग़ैर-ज़रूरी लोग\", 3)"
      ],
      "execution_count": null,
      "outputs": [
        {
          "output_type": "stream",
          "text": [
            "ग़ैर-ज़रूरी लोग कितने खानों में बंट गए हम तुम\n",
            "\n",
            "कितनी हिस्सों में बंट गई दुनिया\n",
            "\n",
            "जब भी दुनिया को छोड़ना चाहा\n",
            "\n",
            "\n",
            "\n"
          ],
          "name": "stdout"
        }
      ]
    },
    {
      "cell_type": "code",
      "metadata": {
        "id": "gw6AIsw-jeUW",
        "colab_type": "code",
        "colab": {
          "base_uri": "https://localhost:8080/",
          "height": 185
        },
        "outputId": "bfb2a0f5-5616-4717-b59c-3baaed93e75c"
      },
      "source": [
        "gen_poem_random(model, max_sequence_len-1, tokenizer, idx_to_word, \"ग़ैर-ज़रूरी लोग ज़िंदगी किस तरह गुज़ारते हैं\", 4)"
      ],
      "execution_count": null,
      "outputs": [
        {
          "output_type": "stream",
          "text": [
            "ग़ैर-ज़रूरी लोग ज़िंदगी किस तरह गुज़ारते हैं जलाये तो अंजाम क्या हुआ मेरा\n",
            "\n",
            "लिखा है तेज हवाओं ने मर्सिया मेरा\n",
            "\n",
            "कहीं शरीफ नमाज़ी कहीं फ़रेबी सा\n",
            "\n",
            "कबीला मेरा नसब बहुत सिलसिला मेरा\n",
            "\n",
            "\n",
            "\n"
          ],
          "name": "stdout"
        }
      ]
    },
    {
      "cell_type": "code",
      "metadata": {
        "id": "MLRQ43iHjtEY",
        "colab_type": "code",
        "colab": {}
      },
      "source": [
        ""
      ],
      "execution_count": null,
      "outputs": []
    }
  ]
}